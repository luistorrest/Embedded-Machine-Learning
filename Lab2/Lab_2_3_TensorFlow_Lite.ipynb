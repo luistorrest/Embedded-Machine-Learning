{
  "cells": [
    {
      "cell_type": "markdown",
      "metadata": {
        "id": "7SFBFiQlYlva"
      },
      "source": [
        "# Embedded ML - Lab 2.3: TensorFlow Lite"
      ]
    },
    {
      "cell_type": "markdown",
      "metadata": {
        "id": "O4N0IxuzSOIk"
      },
      "source": [
        "# Luis Fernando Torres"
      ]
    },
    {
      "cell_type": "markdown",
      "metadata": {
        "id": "svldvvGfmN8q"
      },
      "source": [
        "In this lab you will learn the basics of TensorFlow Lite, a complement of TensorFlow that allows you to optimize and run models on constrained devices. It provides a much lighter runtime than TensorFlow but it only supports a subset of the tools available in full TensorFlow.\n",
        "\n",
        "In this lab you might be given some helper functions but you are expected to write most of the code and be able to explain it at a high level of abstraction and also to modify any part of it."
      ]
    },
    {
      "cell_type": "markdown",
      "metadata": {
        "id": "lQK0RRRuY3rJ"
      },
      "source": [
        "### Learning outcomes\n",
        "\n",
        "\n",
        "* Explain the basic concepts associated with TensorFlow Lite\n",
        "* Develop applications following the basic TensorFlow Lite workflow\n",
        "* Implement post-training quantization using TensorFlow Lite tools"
      ]
    },
    {
      "cell_type": "code",
      "execution_count": null,
      "metadata": {
        "id": "TWbNVp6i34Xi"
      },
      "outputs": [],
      "source": [
        "import os\n",
        "import numpy as np\n",
        "import tensorflow as tf\n",
        "from tensorflow import keras\n",
        "from google.colab import drive\n",
        "from tensorflow.keras.utils import image_dataset_from_directory\n",
        "import matplotlib.pylab as plt\n",
        "import tensorflow as tf\n",
        "from tensorflow import keras\n",
        "import tensorflow_hub as hub\n",
        "import tensorflow_datasets as tfds\n",
        "import pathlib\n",
        "from tensorflow.keras.preprocessing.image import ImageDataGenerator"
      ]
    },
    {
      "cell_type": "code",
      "execution_count": null,
      "metadata": {
        "id": "xJG3o7Z2-7ii"
      },
      "outputs": [],
      "source": [
        "# Load the MNIST dataset\n",
        "(x_train, y_train), (x_test, y_test) = tf.keras.datasets.mnist.load_data()\n",
        "\n",
        "# Filter the dataset to include only '0' and '1' digits\n",
        "train_filter = np.where((y_train == 0) | (y_train == 1))\n",
        "test_filter = np.where((y_test == 0) | (y_test == 1))\n",
        "\n",
        "x_train, y_train = x_train[train_filter], y_train[train_filter]\n",
        "x_test, y_test = x_test[test_filter], y_test[test_filter]\n",
        "\n",
        "# Create directories to save the filtered dataset\n",
        "base_dir = '/content/mnist_binary'\n",
        "train_dir = os.path.join(base_dir, 'train')\n",
        "test_dir = os.path.join(base_dir, 'test')\n",
        "\n",
        "os.makedirs(train_dir, exist_ok=True)\n",
        "os.makedirs(test_dir, exist_ok=True)\n",
        "\n",
        "train_0_dir = os.path.join(train_dir, '0')\n",
        "train_1_dir = os.path.join(train_dir, '1')\n",
        "test_0_dir = os.path.join(test_dir, '0')\n",
        "test_1_dir = os.path.join(test_dir, '1')\n",
        "\n",
        "os.makedirs(train_0_dir, exist_ok=True)\n",
        "os.makedirs(train_1_dir, exist_ok=True)\n",
        "os.makedirs(test_0_dir, exist_ok=True)\n",
        "os.makedirs(test_1_dir, exist_ok=True)\n",
        "\n",
        "# Save the filtered dataset as images\n",
        "from PIL import Image\n",
        "\n",
        "def save_images(images, labels, base_dir):\n",
        "    for i, (img, label) in enumerate(zip(images, labels)):\n",
        "        label_dir = os.path.join(base_dir, str(label))\n",
        "        img = Image.fromarray(img)\n",
        "        img.save(os.path.join(label_dir, f'{i}.png'))\n",
        "\n",
        "save_images(x_train, y_train, train_dir)\n",
        "save_images(x_test, y_test, test_dir)\n"
      ]
    },
    {
      "cell_type": "code",
      "execution_count": null,
      "metadata": {
        "colab": {
          "base_uri": "https://localhost:8080/"
        },
        "id": "_1P9BllI4JyV",
        "outputId": "43ea2d4b-e755-4e6f-fb7c-177e95ca0965"
      },
      "outputs": [
        {
          "output_type": "stream",
          "name": "stdout",
          "text": [
            "Found 12665 files belonging to 2 classes.\n",
            "Found 2115 files belonging to 2 classes.\n"
          ]
        }
      ],
      "source": [
        "# Crear un layer de preprocesamiento para reescalar los píxeles al rango [0, 1]\n",
        "rescale = tf.keras.layers.Rescaling(1./255)\n",
        "\n",
        "def preprocess_dataset(dataset):\n",
        "    # Aplicar la reescalada a cada lote en el dataset\n",
        "    return dataset.map(lambda x, y: (rescale(x), y))\n",
        "\n",
        "train_data = image_dataset_from_directory(\n",
        "    '/content/mnist_binary/train',\n",
        "    batch_size=1,\n",
        "    image_size=(96, 96),\n",
        "    label_mode=\"categorical\",\n",
        "    color_mode='grayscale'\n",
        ")\n",
        "\n",
        "test_data = image_dataset_from_directory(\n",
        "    '/content/mnist_binary/test',\n",
        "    batch_size=1,\n",
        "    image_size=(96, 96),\n",
        "    label_mode=\"categorical\",\n",
        "    color_mode='grayscale'\n",
        ")\n",
        "\n",
        "# Preprocesar los datasets\n",
        "train_batches = preprocess_dataset(train_data)\n",
        "test_batches = preprocess_dataset(test_data)"
      ]
    },
    {
      "cell_type": "code",
      "execution_count": null,
      "metadata": {
        "colab": {
          "base_uri": "https://localhost:8080/",
          "height": 444
        },
        "id": "fFIMkkH05AIZ",
        "outputId": "80035341-9d8b-4f09-c178-410ec266544c"
      },
      "outputs": [
        {
          "output_type": "display_data",
          "data": {
            "text/plain": [
              "<Figure size 1000x500 with 1 Axes>"
            ],
            "image/png": "[encoded data removed]"
          },
          "metadata": {}
        }
      ],
      "source": [
        "import matplotlib.pyplot as plt\n",
        "import numpy as np\n",
        "\n",
        "# Get a batch of images and labels from the preprocessed dataset\n",
        "images, labels = next(iter(train_batches))\n",
        "\n",
        "# Function to display multiple images\n",
        "def show_images(image_batch, label_batch, num_images=4):\n",
        "    plt.figure(figsize=(10, 5))\n",
        "    for n in range(num_images):\n",
        "        ax = plt.subplot(1, num_images, n + 1)\n",
        "        plt.imshow(image_batch[n])  # Rescale pixel values to [0, 1]\n",
        "        plt.title(f\"Label: {label_batch[n]}\")\n",
        "        plt.axis(\"off\")\n",
        "\n",
        "# Display the first 4 images in the batch\n",
        "show_images(images.numpy(), labels.numpy(), num_images=1)"
      ]
    },
    {
      "cell_type": "markdown",
      "metadata": {
        "id": "zAOry6k6ArfA"
      },
      "source": [
        "## My NET\n"
      ]
    },
    {
      "cell_type": "code",
      "execution_count": null,
      "metadata": {
        "colab": {
          "base_uri": "https://localhost:8080/"
        },
        "id": "Wvw_DDzTAm90",
        "outputId": "0340c537-697c-4cf9-d674-69f96bcc2115"
      },
      "outputs": [
        {
          "output_type": "stream",
          "name": "stdout",
          "text": [
            "Model: \"sequential_5\"\n",
            "_________________________________________________________________\n",
            " Layer (type)                Output Shape              Param #   \n",
            "=================================================================\n",
            " flatten_5 (Flatten)         (None, 9216)              0         \n",
            "                                                                 \n",
            " dense_15 (Dense)            (None, 32)                294944    \n",
            "                                                                 \n",
            " dense_16 (Dense)            (None, 8)                 264       \n",
            "                                                                 \n",
            " dense_17 (Dense)            (None, 2)                 18        \n",
            "                                                                 \n",
            "=================================================================\n",
            "Total params: 295226 (1.13 MB)\n",
            "Trainable params: 295226 (1.13 MB)\n",
            "Non-trainable params: 0 (0.00 Byte)\n",
            "_________________________________________________________________\n",
            "Epoch 1/2\n",
            "12665/12665 [==============================] - 69s 5ms/step - loss: 0.0174 - accuracy: 0.9966 - val_loss: 0.0014 - val_accuracy: 0.9991\n",
            "Epoch 2/2\n",
            "12665/12665 [==============================] - 70s 5ms/step - loss: 0.0094 - accuracy: 0.9985 - val_loss: 0.0021 - val_accuracy: 0.9991\n"
          ]
        }
      ],
      "source": [
        "model = keras.Sequential([\n",
        "    tf.keras.layers.Flatten(input_shape=(96,96,1)),\n",
        "    tf.keras.layers.Dense(units=32, activation='relu'),\n",
        "    tf.keras.layers.Dense(units=8, activation='relu'),\n",
        "    tf.keras.layers.Dense(2, activation=tf.nn.softmax),\n",
        "])\n",
        "\n",
        "model.summary()\n",
        "\n",
        "# Compile the model\n",
        "model.compile(optimizer='adam',\n",
        "                  loss='categorical_crossentropy',\n",
        "                  metrics=['accuracy'])\n",
        "\n",
        "# Train the model\n",
        "EPOCHS = 2\n",
        "model.fit(train_batches,\n",
        "                 epochs=EPOCHS,\n",
        "                 validation_data=test_batches)\n",
        "\n",
        "# Save the model to a file\n",
        "tf.saved_model.save(model, \"Model_tf_\")"
      ]
    },
    {
      "cell_type": "markdown",
      "metadata": {
        "id": "T25pOIS7kcym"
      },
      "source": [
        "### Post-training quantization\n"
      ]
    },
    {
      "cell_type": "code",
      "execution_count": null,
      "metadata": {
        "id": "Ep3MgvZTcqcW",
        "colab": {
          "base_uri": "https://localhost:8080/"
        },
        "outputId": "f8e70d43-04f6-4fb9-86ff-ebc05cf5569e"
      },
      "outputs": [
        {
          "output_type": "stream",
          "name": "stdout",
          "text": [
            "input:  <class 'numpy.int8'>\n",
            "output:  <class 'numpy.int8'>\n"
          ]
        }
      ],
      "source": [
        "import tensorflow as tf\n",
        "import numpy as np\n",
        "import pathlib\n",
        "\n",
        "# Load and convert exported model from file\n",
        "converter = tf.lite.TFLiteConverter.from_saved_model(\"Model_tf_\")\n",
        "converter.optimizations = [tf.lite.Optimize.DEFAULT]\n",
        "\n",
        "def representative_data_gen():\n",
        "    for input_value, _ in test_batches.take(1000):\n",
        "        yield [input_value]\n",
        "\n",
        "\n",
        "converter.representative_dataset = representative_data_gen\n",
        "converter.target_spec.supported_ops = [tf.lite.OpsSet.TFLITE_BUILTINS_INT8]\n",
        "converter.inference_input_type = tf.int8\n",
        "converter.inference_output_type = tf.int8\n",
        "\n",
        "tflite_model = converter.convert()\n",
        "\n",
        "interpreter = tf.lite.Interpreter(model_content=tflite_model)\n",
        "input_type = interpreter.get_input_details()[0]['dtype']\n",
        "print('input: ', input_type)\n",
        "output_type = interpreter.get_output_details()[0]['dtype']\n",
        "print('output: ', output_type)\n",
        "\n",
        "tflite_model_file = pathlib.Path('Model_tf_3.tflite')\n",
        "tflite_model_file.write_bytes(tflite_model)\n",
        "\n",
        "# Set up input/output tensors\n",
        "tflite_model_file = 'Model_tf_3.tflite'\n",
        "interpreter = tf.lite.Interpreter(model_path=tflite_model_file)\n",
        "interpreter.allocate_tensors()\n",
        "\n",
        "# Set input values\n",
        "input_details = interpreter.get_input_details()\n",
        "output_details = interpreter.get_output_details()\n",
        "\n",
        "input_index = input_details[0][\"index\"]\n",
        "output_index = output_details[0][\"index\"]\n",
        "\n",
        "# Run inference\n",
        "score = 0\n",
        "for img, label in test_batches.take(len(test_batches)):\n",
        "    img_int8 = (img * 255 - 128).numpy().astype(np.int8) # Cuantizacion int8\n",
        "    interpreter.set_tensor(input_index, img_int8)\n",
        "    interpreter.invoke()\n",
        "\n",
        "    prediction = np.argmax(interpreter.get_tensor(output_index))\n",
        "    if prediction == np.argmax(label.numpy()):\n",
        "        score = score + 1\n"
      ]
    },
    {
      "cell_type": "code",
      "execution_count": null,
      "metadata": {
        "colab": {
          "base_uri": "https://localhost:8080/"
        },
        "id": "QX9Y3MzPe5zp",
        "outputId": "e7b317a4-17e8-42b8-8524-7367b90928d8"
      },
      "outputs": [
        {
          "output_type": "stream",
          "name": "stdout",
          "text": [
            "Acuracy: 99.57446808510639\n"
          ]
        }
      ],
      "source": [
        "acc = score*100/len(test_batches)\n",
        "print(\"Acuracy:\",acc)"
      ]
    },
    {
      "cell_type": "code",
      "execution_count": null,
      "metadata": {
        "colab": {
          "base_uri": "https://localhost:8080/"
        },
        "id": "5GwrYWVUyxNA",
        "outputId": "bd347f40-b10b-4235-a727-3263842c2da4"
      },
      "outputs": [
        {
          "output_type": "stream",
          "name": "stdout",
          "text": [
            "/content/Model_tf_3.tflite el tamaño es 150600\n"
          ]
        }
      ],
      "source": [
        "import os\n",
        "#model size\n",
        "def model_size(archivo1):\n",
        "    tamano_archivo1 = os.path.getsize(archivo1)\n",
        "    print(f\"{archivo1} el tamaño es {tamano_archivo1}\")\n",
        "\n",
        "archivo = \"/content/Model_tf_3.tflite\"\n",
        "\n",
        "model_size(archivo)"
      ]
    },
    {
      "cell_type": "code",
      "execution_count": null,
      "metadata": {
        "id": "KOFqUNtOy43s"
      },
      "outputs": [],
      "source": [
        "!xxd -i Model_tf_3.tflite > converted_model_data.h"
      ]
    },
    {
      "cell_type": "markdown",
      "metadata": {
        "id": "HIV_eRtNpo28"
      },
      "source": [
        "# Conclusion\n",
        "\n",
        "Given the limited memory to store the weights of the model, it was chosen to build a simple and small neural network, obtaining a decent accuracy with which to work.\n",
        "\n",
        "Convolutional networks seem to have compatibility problems in TensorFlow and TensorFlow Lite Micro. Some operations or dimensions are not compatible, which generates errors that cause the microcontroller to crash.\n",
        "\n",
        "It is important to note that the Arduino BLE has 1MB of memory, which does not allow it to perform many operations. For this reason, it is essential to have a small model and few global variables so that the camera model can be processed in real time"
      ]
    }
  ],
  "metadata": {
    "accelerator": "GPU",
    "colab": {
      "gpuType": "T4",
      "provenance": []
    },
    "kernelspec": {
      "display_name": "Python 3",
      "name": "python3"
    },
    "language_info": {
      "name": "python"
    }
  },
  "nbformat": 4,
  "nbformat_minor": 0
}