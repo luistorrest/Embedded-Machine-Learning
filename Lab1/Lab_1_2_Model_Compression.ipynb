{
  "cells": [
    {
      "cell_type": "markdown",
      "metadata": {
        "id": "7SFBFiQlYlva"
      },
      "source": [
        "# Embedded ML - Lab 1.2: Model Compression"
      ]
    },
    {
      "cell_type": "markdown",
      "source": [
        "## Integrantes\n",
        "Omar David Boneda\n",
        "\n",
        "Luis Fernando Torres"
      ],
      "metadata": {
        "id": "zUp6MA7mU31E"
      }
    },
    {
      "cell_type": "markdown",
      "metadata": {
        "id": "svldvvGfmN8q"
      },
      "source": [
        "In this lab you are asked to create a compressed verion of an ANNs model. You are not allowed to use ML libraries such as SciKit-learn, PyTorch or TensorFlow, but you are allowed to use standard libraries such as math, numpy and matplotlib if needed. You are given some code but you are expected to write some more and be able to explain and modify everything. This lab is essential for you to grasp the details of some of the most important techniques for compressing or making ML models more efficient: quantization and prunning."
      ]
    },
    {
      "cell_type": "markdown",
      "metadata": {
        "id": "lQK0RRRuY3rJ"
      },
      "source": [
        "### Learning outcomes\n",
        "\n",
        "\n",
        "* Explain the basic concepts of compression in ANNs\n",
        "* Apply range tuning and centering when doing quantization\n",
        "* Calculate and analyze the impact of quantization and prunning on memory and computing"
      ]
    },
    {
      "cell_type": "markdown",
      "metadata": {
        "id": "l8wat6Kxul5R"
      },
      "source": [
        "### Naive quantization\n",
        "Quantization means reducing the precission of model parameters and mainly targets weights, since they represent the most volumne of memory and processing in ANNs.\n",
        "\n",
        "Take the code from the last part of Lab 1.1 (MNIST model) and add methods to export and import weights to and from a binary file for which you have to define a format. Then, create two additional inference methods: FP16 and INT8. The FP16 method should treat all computations in the network as 16-bit floating-point. The INT8 method should work with 8-bit integers. In both cases, use the native datatype conversion methods.\n",
        "\n",
        "Run the two quantized models and compare them with the baseline in terms of model size, accuracy and latency."
      ]
    },
    {
      "cell_type": "code",
      "execution_count": 1,
      "metadata": {
        "colab": {
          "base_uri": "https://localhost:8080/"
        },
        "id": "FjFm3p9aMJGy",
        "outputId": "903aa523-edd0-47a7-8e97-258065755875"
      },
      "outputs": [
        {
          "output_type": "stream",
          "name": "stdout",
          "text": [
            "Epoch 0: Loss = 0.2989\n",
            "Epoch 100: Loss = 0.0988\n",
            "Epoch 200: Loss = 0.0937\n",
            "Epoch 300: Loss = 0.0881\n",
            "Epoch 400: Loss = 0.0840\n",
            "Epoch 500: Loss = 0.0781\n",
            "Epoch 600: Loss = 0.0711\n",
            "Epoch 700: Loss = 0.0680\n",
            "Epoch 800: Loss = 0.0662\n",
            "Epoch 900: Loss = 0.0645\n",
            "Epoch 1000: Loss = 0.0571\n",
            "Epoch 1100: Loss = 0.0465\n"
          ]
        }
      ],
      "source": [
        "from keras.datasets import mnist\n",
        "from keras.utils import to_categorical\n",
        "import numpy as np\n",
        "import matplotlib.pyplot as plt\n",
        "\n",
        "class NeuralNetwork:\n",
        "    def __init__(self, input_size, hidden_size, output_size):\n",
        "        self.input_size = input_size\n",
        "        self.hidden_size = hidden_size\n",
        "        self.output_size = output_size\n",
        "\n",
        "        # Initialize weights and biases\n",
        "        self.weights_input_hidden = np.random.randn(self.input_size, self.hidden_size)\n",
        "        self.bias_input_hidden = np.zeros((1, self.hidden_size))\n",
        "        self.weights_hidden_output = np.random.randn(self.hidden_size, self.output_size)\n",
        "        self.bias_hidden_output = np.zeros((1, self.output_size))\n",
        "\n",
        "    def weights_flatten(self):\n",
        "        #Se le hace un flatten a los pesos\n",
        "        weights = np.concatenate((self.weights_input_hidden.flatten(), self.bias_input_hidden.flatten()))\n",
        "        weights = np.concatenate((weights,self.weights_hidden_output.flatten()))\n",
        "        weights = np.concatenate((weights,self.bias_hidden_output .flatten()))\n",
        "        return weights\n",
        "\n",
        "    def naive_quantized(self, x, cuantized):\n",
        "        if cuantized == 0:\n",
        "          #Cuantizado int 8 naive quantized\n",
        "          x_int8 = np.floor(((2**7)/np.max(x))* x).astype(np.int8)\n",
        "          weights_input_hidden_int8 = np.floor(((2**7)/np.max(self.weights_input_hidden))* self.weights_input_hidden).astype(np.int8)\n",
        "          bias_input_hidden_int8 = np.floor(((2**7)/np.max(self.bias_input_hidden))* self.bias_input_hidden).astype(np.int8)\n",
        "          weights_hidden_output_int8 = np.floor(((2**7)/np.max(self.weights_hidden_output))* self.weights_hidden_output).astype(np.int8)\n",
        "          bias_hidden_output_int8 = np.floor(((2**7)/np.max(self.bias_hidden_output))* self.bias_hidden_output).astype(np.int8)\n",
        "          name_int8 = 'model_weights_int8.npy'\n",
        "          self.save_weights_binary(name_int8,weights_input_hidden_int8,bias_input_hidden_int8,weights_hidden_output_int8,bias_hidden_output_int8)\n",
        "          return x_int8,weights_input_hidden_int8,bias_input_hidden_int8,weights_hidden_output_int8,bias_hidden_output_int8\n",
        "\n",
        "        elif cuantized == 1:\n",
        "          #Cuantizando int 8 tuning + centering\n",
        "          scale= (2**8)/(np.max(x)-np.min(x))\n",
        "          zeropoint=-np.floor(scale*np.min(x))-2**(8-1)\n",
        "          x_int8_c = np.floor((scale*x)+zeropoint).astype(np.int8)\n",
        "          weights_input_hidden_int8_c = np.floor((scale*weights_input_hidden)+zeropoint).astype(np.int8)\n",
        "          bias_input_hidden_int8_c = np.floor((scale*bias_input_hidden)+zeropoint).astype(np.int8)\n",
        "          weights_hidden_output_int8_c = np.floor((scale*weights_hidden_output)+zeropoint).astype(np.int8)\n",
        "          bias_hidden_output_int8_c = np.floor((scale*bias_hidden_output)+zeropoint).astype(np.int8)\n",
        "          name_int8_c = 'model_weights_int8_centering.npy'\n",
        "          self.save_weights_binary(name_int8_c,weights_input_hidden_int8_c,bias_input_hidden_int8_c,weights_hidden_output_int8_c,bias_hidden_output_int8_c)\n",
        "          return x_int8_c,weights_input_hidden_int8_c,bias_input_hidden_int8_c,weights_hidden_output_int8_c,bias_hidden_output_int8_c\n",
        "\n",
        "        elif cuantized == 2:\n",
        "          #Cuantizado fp16\n",
        "          self.save_weights_binary('model_weights_fp16.npy', self.weights_input_hidden.astype(np.float16), self.bias_input_hidden.astype(np.float16), self.weights_hidden_output.astype(np.float16), self.bias_hidden_output.astype(np.float16))\n",
        "          return  x.astype(np.float16),self.weights_input_hidden.astype(np.float16), self.bias_input_hidden.astype(np.float16), self.weights_hidden_output.astype(np.float16), self.bias_hidden_output.astype(np.float16)\n",
        "\n",
        "        else:\n",
        "          #sin cuantizar\n",
        "          self.save_weights_binary('model_weights.npy', self.weights_input_hidden, self.bias_input_hidden, self.weights_hidden_output, self.bias_hidden_output)\n",
        "          return  self.weights_input_hidden, self.bias_input_hidden, self.weights_hidden_output, self.bias_hidden_output\n",
        "\n",
        "    def save_weights_binary(self,name, weights_input_hidden,bias_input_hidden,weights_hidden_output,bias_hidden_output):\n",
        "      with open(name,'wb') as f:\n",
        "        np.save(f,weights_input_hidden)\n",
        "        np.save(f,bias_input_hidden)\n",
        "        np.save(f,weights_hidden_output)\n",
        "        np.save(f,bias_hidden_output)\n",
        "\n",
        "    def load_weights_binary(self, name):\n",
        "      with open(name, 'rb') as f:\n",
        "        self.weights_input_hidden = np.load(f)\n",
        "        self.bias_input_hidden = np.load(f)\n",
        "        self.weights_hidden_output = np.load(f)\n",
        "        self.bias_hidden_output = np.load(f)\n",
        "      return self.weights_input_hidden, self.bias_input_hidden, self.weights_hidden_output, self.bias_hidden_output\n",
        "\n",
        "    def sigmoid(self, x):\n",
        "        return 1 / (1 + np.exp(-x))\n",
        "\n",
        "    def sigmoid_derivative(self, x):\n",
        "        return x * (1 - x)\n",
        "\n",
        "    def ReLU(self,x):\n",
        "        return np.abs(x * (x > 0))\n",
        "\n",
        "    def dReLU(self,x):\n",
        "        return np.abs(1. * (x > 0))\n",
        "\n",
        "    def active_neuron(self, y):\n",
        "        return np.argmax(y, axis=1)\n",
        "\n",
        "    def forward(self, x):\n",
        "        # Forward propagation through the network\n",
        "        self.hidden_output = self.sigmoid(np.dot(x, self.weights_input_hidden) + self.bias_input_hidden)\n",
        "        self.output = self.sigmoid(np.dot(self.hidden_output, self.weights_hidden_output) + self.bias_hidden_output)\n",
        "        return self.output\n",
        "\n",
        "    def backward(self, x, y, output, learning_rate):\n",
        "        # Backpropagation and weight updates\n",
        "        self.error = y - output\n",
        "        d_output = self.error * self.sigmoid_derivative(output)\n",
        "\n",
        "        self.hidden_error = d_output.dot(self.weights_hidden_output.T)\n",
        "        d_hidden = self.hidden_error * self.sigmoid_derivative(self.hidden_output)\n",
        "\n",
        "        self.weights_hidden_output += self.hidden_output.T.dot(d_output) * learning_rate\n",
        "        self.bias_hidden_output += np.sum(d_output, axis=0, keepdims=True) * learning_rate\n",
        "        self.weights_input_hidden += x.T.dot(d_hidden) * learning_rate\n",
        "        self.bias_input_hidden += np.sum(d_hidden, axis=0, keepdims=True) * learning_rate\n",
        "\n",
        "    def train(self, x, y, epochs, learning_rate):\n",
        "        error = 0\n",
        "        for epoch in range(epochs):\n",
        "            output = self.forward(x)\n",
        "            self.backward(x, y, output, learning_rate)\n",
        "            if epoch % 100 == 0:\n",
        "                error = np.mean(np.square(y - output))\n",
        "                print(f'Epoch {epoch}: Loss = {error:.4f}')\n",
        "\n",
        "# Load MNIST dataset\n",
        "(x_train, y_train), (x_test, y_test) = mnist.load_data()\n",
        "\n",
        "# Flatten the training and test data\n",
        "x_train = x_train.reshape(x_train.shape[0], -1)\n",
        "x_test = x_test.reshape(x_test.shape[0], -1)\n",
        "\n",
        "# Normalize the pixel values to be between 0 and 1\n",
        "x_train = x_train / 255.0\n",
        "x_test = x_test / 255.0\n",
        "\n",
        "\n",
        "# Convert labels to one-hot encoding\n",
        "y_train = to_categorical(y_train, num_classes=10)\n",
        "#y_test = to_categorical(y_test, num_classes=10)\n",
        "\n",
        "x_train = x_train[0:10000]\n",
        "y_train = y_train[0:10000]\n",
        "\n",
        "nn_mnist = NeuralNetwork(input_size=784, hidden_size=80, output_size=10)\n",
        "nn_mnist.train(x_train, y_train, epochs=1200, learning_rate=0.0005)"
      ]
    },
    {
      "cell_type": "code",
      "execution_count": 2,
      "metadata": {
        "id": "pmqbqfkpMLuJ",
        "colab": {
          "base_uri": "https://localhost:8080/"
        },
        "outputId": "bd806e07-8150-45fb-e684-bbeed7c55038"
      },
      "outputs": [
        {
          "output_type": "stream",
          "name": "stdout",
          "text": [
            "Precision del modelo sin cuantificar 62.63\n"
          ]
        }
      ],
      "source": [
        "#test model sin cuantificar\n",
        "y_pred = nn_mnist.forward(x_test)\n",
        "y_pred = nn_mnist.active_neuron(y_pred)\n",
        "\n",
        "#Computation error\n",
        "error = y_test - y_pred\n",
        "print(\"Precision del modelo sin cuantificar\",(np.count_nonzero(error==0)*100)/len(y_test))"
      ]
    },
    {
      "cell_type": "code",
      "execution_count": 3,
      "metadata": {
        "id": "2wDH_-cj945U",
        "colab": {
          "base_uri": "https://localhost:8080/"
        },
        "outputId": "fbedc324-e255-4f6f-b3d2-3317f51d5277"
      },
      "outputs": [
        {
          "output_type": "stream",
          "name": "stdout",
          "text": [
            "Modelo sin cuantizar\n",
            "(784, 80) (1, 80) (80, 10) (1, 10)\n",
            "[-8.57963477e-02 -9.41172136e-01  7.35324649e-01  1.44057903e-01\n",
            "  1.44977344e-01 -2.82324914e-01 -1.71723027e+00  1.00988430e+00\n",
            " -2.98478555e-01 -1.16592557e+00  5.69461375e-01 -2.09088737e-01\n",
            " -1.16697645e-01 -2.37744796e-01  7.26117721e-01 -2.67035312e-02\n",
            " -4.32253406e-02 -2.20114891e+00  2.02569824e-02  1.02187981e+00\n",
            " -1.54003509e+00  2.18368243e-03  3.42998167e-01  1.43530360e-01\n",
            "  1.24316791e+00 -3.54641848e-01 -6.42608753e-01  8.56694167e-01\n",
            " -9.49031358e-01  1.69793687e+00]\n"
          ]
        }
      ],
      "source": [
        "#Cargar modelo con pesos normales\n",
        "weights_input_hidden, bias_input_hidden, weights_hidden_output, bias_hidden_output = nn_mnist.naive_quantized(x_test, 3)\n",
        "print(\"Modelo sin cuantizar\")\n",
        "print(weights_input_hidden.shape, bias_input_hidden.shape, weights_hidden_output.shape, bias_hidden_output.shape)\n",
        "print(weights_input_hidden[0,0:30])\n"
      ]
    },
    {
      "cell_type": "code",
      "execution_count": 4,
      "metadata": {
        "id": "XoIDFo-TCzm1",
        "colab": {
          "base_uri": "https://localhost:8080/"
        },
        "outputId": "5f67ad46-d8c7-4082-c60f-9b86083b2aae"
      },
      "outputs": [
        {
          "output_type": "stream",
          "name": "stdout",
          "text": [
            "Modelo cuantizado int8\n",
            "(784, 80) (1, 80) (80, 10) (1, 10)\n",
            "[ -3 -28  21   4   4  -9 -50  29  -9 -34  16  -7  -4  -7  20  -1  -2 -64\n",
            "   0  29 -45   0   9   4  35 -11 -19  24 -28  48]\n",
            "y_pred_int8:  int8\n",
            "y_pred_int8_active:  int8\n",
            "error int8:  int8\n",
            "Precision del modelo cuantificado int8 10.06\n"
          ]
        },
        {
          "output_type": "stream",
          "name": "stderr",
          "text": [
            "<ipython-input-1-154c73705eae>:76: RuntimeWarning: overflow encountered in exp\n",
            "  return 1 / (1 + np.exp(-x))\n"
          ]
        }
      ],
      "source": [
        "#Cargar modelo cuantizado int8\n",
        "x_test_int8, weights_input_hidden_int8, bias_input_hidden_int8, weights_hidden_output_int8, bias_hidden_output_int8 = nn_mnist.naive_quantized(x_test, 0)\n",
        "nn_mnist_int8 = NeuralNetwork(input_size=784, hidden_size=80, output_size=10)\n",
        "weights_input_hidden_int8,bias_input_hidden_int8,weights_hidden_output_int8,bias_hidden_output_int8 = nn_mnist_int8.load_weights_binary('model_weights_int8.npy')\n",
        "print(\"Modelo cuantizado int8\")\n",
        "print(weights_input_hidden_int8.shape, bias_input_hidden_int8.shape, weights_hidden_output_int8.shape, bias_hidden_output_int8.shape)\n",
        "print(weights_input_hidden_int8[0,0:30])\n",
        "#Forward con int8\n",
        "y_pred_int8 = nn_mnist_int8.forward(x_test_int8).astype(np.int8)\n",
        "print(\"y_pred_int8: \",y_pred_int8.dtype)\n",
        "y_pred_int8 = nn_mnist_int8.active_neuron(y_pred_int8).astype(np.int8)\n",
        "print(\"y_pred_int8_active: \",y_pred_int8.dtype)\n",
        "#Computation error\n",
        "error = y_test.astype(np.int8) - y_pred_int8\n",
        "#error = y_test - y_pred_int8\n",
        "print(\"error int8: \",error.dtype)\n",
        "print(\"Precision del modelo cuantificado int8\",(np.count_nonzero(error==0)*100)/len(y_test))"
      ]
    },
    {
      "cell_type": "code",
      "source": [
        "#Cargar modelo cuantizado float 16\n",
        "x_test_fp16, weights_input_hidden_fp16, bias_input_hidden_fp16, weights_hidden_output_fp16, bias_hidden_output_fp16 = nn_mnist.naive_quantized(x_test, 2)\n",
        "nn_mnist_fp16 = NeuralNetwork(input_size=784, hidden_size=80, output_size=10)\n",
        "weights_input_hidden_fp16,bias_input_hidden_fp16,weights_hidden_output_fp16,bias_hidden_output_fp16 = nn_mnist_fp16.load_weights_binary('model_weights_fp16.npy')\n",
        "print(\"Modelo cuantizado fp16\")\n",
        "print(weights_input_hidden_fp16.shape, bias_input_hidden_fp16.shape, weights_hidden_output_fp16.shape, bias_hidden_output_fp16.shape)\n",
        "print(weights_input_hidden_fp16[0,0:30])\n",
        "#Forward con fp16\n",
        "y_pred_fp16 = nn_mnist_fp16.forward(x_test_fp16).astype(np.float16)\n",
        "print(\"y_pred_fp16: \",y_pred_fp16.dtype)\n",
        "y_pred_fp16 = nn_mnist_fp16.active_neuron(y_pred_fp16).astype(np.float16)\n",
        "print(\"y_pred_fp16_active: \",y_pred_fp16.dtype)\n",
        "#Computation error\n",
        "error = y_test.astype(np.float16) - y_pred_fp16\n",
        "#error = y_test - y_pred_fp16\n",
        "print(\"error fp16: \",error.dtype)\n",
        "print(\"Precision del modelo cuantificado float 16\",(np.count_nonzero(error==0)*100)/len(y_test))"
      ],
      "metadata": {
        "id": "6pfcOETsWYvk",
        "colab": {
          "base_uri": "https://localhost:8080/"
        },
        "outputId": "95d0a5bc-6ba0-417e-94e3-05b13c51bdc5"
      },
      "execution_count": 5,
      "outputs": [
        {
          "output_type": "stream",
          "name": "stdout",
          "text": [
            "Modelo cuantizado fp16\n",
            "(784, 80) (1, 80) (80, 10) (1, 10)\n",
            "[-8.582e-02 -9.414e-01  7.354e-01  1.440e-01  1.450e-01 -2.822e-01\n",
            " -1.717e+00  1.010e+00 -2.986e-01 -1.166e+00  5.693e-01 -2.091e-01\n",
            " -1.167e-01 -2.378e-01  7.261e-01 -2.670e-02 -4.321e-02 -2.201e+00\n",
            "  2.026e-02  1.021e+00 -1.540e+00  2.184e-03  3.430e-01  1.436e-01\n",
            "  1.243e+00 -3.547e-01 -6.426e-01  8.569e-01 -9.492e-01  1.698e+00]\n",
            "y_pred_fp16:  float16\n",
            "y_pred_fp16_active:  float16\n",
            "error fp16:  float16\n",
            "Precision del modelo cuantificado float 16 62.64\n"
          ]
        },
        {
          "output_type": "stream",
          "name": "stderr",
          "text": [
            "<ipython-input-1-154c73705eae>:76: RuntimeWarning: overflow encountered in exp\n",
            "  return 1 / (1 + np.exp(-x))\n"
          ]
        }
      ]
    },
    {
      "cell_type": "markdown",
      "metadata": {
        "id": "YpQD3Y7a_wFa"
      },
      "source": [
        "### Range tuning and centering\n",
        "For quantization to be effective, you should smartly choose the range of numbers you will code with the fewer bits available after quantization. To do so, you should evaluate the dynamic ranges of the variables to be quantized and map the values using that as the full range.\n",
        "\n",
        "Make a histogram plot of the model weights in order to verify their range. Then write a function to quantize the weights stored in the exported binary file to INT8 and store the resulting weights in another file. Finally, run again the INT8 quantized inference with the newly computed weights and compare with the previous versions using the same metrics."
      ]
    },
    {
      "cell_type": "code",
      "execution_count": 6,
      "metadata": {
        "id": "eDMywPk5qZiV",
        "colab": {
          "base_uri": "https://localhost:8080/",
          "height": 485
        },
        "outputId": "6e8ebbfc-8e2a-458d-8e68-336b903af144"
      },
      "outputs": [
        {
          "output_type": "stream",
          "name": "stdout",
          "text": [
            "Promedio -0.0031045671110856744\n",
            "Maximo: 4.438535142980115\n",
            "Mínimo: -4.692199240760835\n"
          ]
        },
        {
          "output_type": "display_data",
          "data": {
            "text/plain": [
              "<Figure size 640x480 with 1 Axes>"
            ],
            "image/png": "[encoded data removed]"
          },
          "metadata": {}
        }
      ],
      "source": [
        "# histograma de pesos sin cuantificar\n",
        "def plot_histogram(weights):\n",
        "  print(\"Promedio\",np.mean(weights))\n",
        "  print(\"Maximo:\",np.max(weights))\n",
        "  print(\"Mínimo:\",np.min(weights))\n",
        "\n",
        "  # plot a histogram of all model weights\n",
        "  #plt.xticks([i for i in range(-5,5)])\n",
        "  plt.hist(weights,density=1,bins=100)\n",
        "  plt.grid()\n",
        "  plt.show\n",
        "\n",
        "#Histograma\n",
        "weights =nn_mnist.weights_flatten()\n",
        "plot_histogram(weights)\n"
      ]
    },
    {
      "cell_type": "code",
      "source": [
        "#Cuantizar modelo int8 con centering\n",
        "x_test_int8_c, weights_input_hidden_int8_c, bias_input_hidden_int8_c, weights_hidden_output_int8_c, bias_hidden_output_int8_c = nn_mnist.naive_quantized(x_test, 1)\n",
        "\n",
        "#Cargar nuevo modelo con centering\n",
        "nn_mnist_int8_c = NeuralNetwork(input_size=784, hidden_size=80, output_size=10)\n",
        "weights_input_hidden_int8_c,bias_input_hidden_int8_c,weights_hidden_output_int8_c,bias_hidden_output_int8_c = nn_mnist_int8_c.load_weights_binary('model_weights_int8_centering.npy')\n",
        "\n",
        "#Forward con int8 y cenetering\n",
        "y_pred_int8_c = nn_mnist_int8_c.forward(x_test_int8_c).astype(np.int8)\n",
        "print(\"y_pred_int8: \",y_pred_int8_c.dtype)\n",
        "y_pred_int8_c = nn_mnist_int8_c.active_neuron(y_pred_int8_c).astype(np.int8)\n",
        "print(\"y_pred_int8_active: \",y_pred_int8_c.dtype)\n",
        "\n",
        "#Computation error\n",
        "error = y_test.astype(np.int8) - y_pred_int8_c\n",
        "print(\"error int8 centering: \",error.dtype)\n",
        "print(\"Precision del modelo cuantificado int 8 con centering\",(np.count_nonzero(error==0)*100)/len(y_test))"
      ],
      "metadata": {
        "id": "Y3n7cNRgWNyc",
        "colab": {
          "base_uri": "https://localhost:8080/"
        },
        "outputId": "180ac1b5-a106-4153-92db-3d62bb4cda6e"
      },
      "execution_count": 7,
      "outputs": [
        {
          "output_type": "stream",
          "name": "stdout",
          "text": [
            "y_pred_int8:  int8\n",
            "y_pred_int8_active:  int8\n",
            "error int8 centering:  int8\n",
            "Precision del modelo cuantificado int 8 con centering 11.09\n"
          ]
        },
        {
          "output_type": "stream",
          "name": "stderr",
          "text": [
            "<ipython-input-1-154c73705eae>:76: RuntimeWarning: overflow encountered in exp\n",
            "  return 1 / (1 + np.exp(-x))\n"
          ]
        }
      ]
    },
    {
      "cell_type": "code",
      "source": [
        "#histograma de pesos cuantificados a int8 y centering\n",
        "weights =nn_mnist_int8_c.weights_flatten()\n",
        "plot_histogram(weights)"
      ],
      "metadata": {
        "id": "pPV0qZW1fqYX",
        "colab": {
          "base_uri": "https://localhost:8080/",
          "height": 485
        },
        "outputId": "0d872b6d-ce52-462a-ccf5-cb6e3cc21f30"
      },
      "execution_count": 8,
      "outputs": [
        {
          "output_type": "stream",
          "name": "stdout",
          "text": [
            "Promedio -0.32936645181575225\n",
            "Maximo: 127\n",
            "Mínimo: -128\n"
          ]
        },
        {
          "output_type": "display_data",
          "data": {
            "text/plain": [
              "<Figure size 640x480 with 1 Axes>"
            ],
            "image/png": "[encoded data removed]"
          },
          "metadata": {}
        }
      ]
    },
    {
      "cell_type": "markdown",
      "metadata": {
        "id": "fDh7MZVJEuhd"
      },
      "source": [
        "### Prunning\n",
        "Besides reducing precision for the network weights, we can also decide to eliminate network connections that do not contribute significantly to the model. This can be achieved by simply removing the connections whose weights are closest to zero.\n",
        "\n",
        "In this part of the lab you are asked to generate three prunned versions of the original model by setting to zero some of the weights:\n",
        "\n",
        "\n",
        "*   Set to zero the smallest 10% of weights\n",
        "*   Set to zero the smallest 30% of weights\n",
        "*   Set to zero the smallest 50% of weights\n",
        "\n",
        "Report the accuracy for each model against the estimated memory savings.\n",
        "\n"
      ]
    },
    {
      "cell_type": "code",
      "source": [
        "def prune_model(weights_input_hidden, bias_input_hidden, weights_hidden_output, bias_hidden_output, percentage):\n",
        "\n",
        "    # Prune the input-to-hidden weights matrix\n",
        "    weights_input_hidden_prunned = prune_matrix(weights_input_hidden, percentage)\n",
        "    print(\"weights_input_hidden_prunned shape:\", weights_input_hidden_prunned.shape)\n",
        "\n",
        "    # Prune the input-to-hidden bias vector\n",
        "    bias_input_hidden_prunned = prune_vector(bias_input_hidden, percentage)\n",
        "    print(\"bias_input_hidden_prunned shape:\", bias_input_hidden_prunned.shape)\n",
        "\n",
        "    # Prune the hidden-to-output weights matrix\n",
        "    weights_hidden_output_prunned = prune_matrix(weights_hidden_output, percentage)\n",
        "    print(\"weights_hidden_output_prunned shape:\", weights_hidden_output_prunned.shape)\n",
        "\n",
        "    # Prune the hidden-to-output bias vector\n",
        "    bias_hidden_output_prunned = prune_vector(bias_hidden_output, percentage)\n",
        "    print(\"bias_hidden_output_prunned shape:\", bias_hidden_output_prunned.shape)\n",
        "\n",
        "    return weights_input_hidden_prunned, bias_input_hidden_prunned, weights_hidden_output_prunned, bias_hidden_output_prunned\n",
        "\n",
        "def prune_matrix(matrix, percentage):\n",
        "    # Calculate the number of elements to prune\n",
        "    num_elements_to_prune = int(matrix.size * percentage / 100)\n",
        "\n",
        "    # Find the indices of the smallest values\n",
        "    indices = np.argpartition(np.abs(matrix.flatten()), num_elements_to_prune)[:num_elements_to_prune]\n",
        "\n",
        "    # Convert indices to (x, y) coordinates\n",
        "    coordinates = [(index // matrix.shape[0], index % matrix.shape[1]) for index in indices]\n",
        "\n",
        "    # Set the smallest values to zero\n",
        "    for x, y in coordinates:\n",
        "        matrix[x, y] = 0\n",
        "\n",
        "    return matrix\n",
        "\n",
        "def prune_vector(vector, percentage):\n",
        "    # Calculate the number of elements to prune\n",
        "    num_elements_to_prune = int(vector.size * percentage / 100)\n",
        "\n",
        "    # Find the indices of the smallest values\n",
        "    indices = np.argpartition(np.abs(vector), num_elements_to_prune)[:num_elements_to_prune]\n",
        "\n",
        "    # Set the smallest values to zero\n",
        "    for index in indices:\n",
        "        vector[index] = 0\n",
        "\n",
        "    return vector"
      ],
      "metadata": {
        "id": "mRCCzWGoQCa6"
      },
      "execution_count": 9,
      "outputs": []
    },
    {
      "cell_type": "code",
      "source": [
        "# Pruned model with 10%\n",
        "weights_input_hidden_p10, bias_input_hidden_p10, weights_hidden_output_p10, bias_hidden_output_p10 = prune_model(weights_input_hidden, bias_input_hidden, weights_hidden_output, bias_hidden_output, 0.1)\n",
        "\n",
        "#Crear un nuevo objeto\n",
        "nn_mnist_p10 = NeuralNetwork(input_size=784, hidden_size=80, output_size=10)\n",
        "nn_mnist_p10.weights_input_hidden = weights_input_hidden_p10\n",
        "nn_mnist_p10.bias_input_hidden_p10 = bias_input_hidden_p10\n",
        "nn_mnist_p10.weights_hidden_output_p10 = weights_hidden_output_p10\n",
        "nn_mnist_p10.bias_hidden_output_p10= bias_hidden_output_p10\n",
        "\n",
        "print(weights_input_hidden_p10.shape, bias_input_hidden_p10.shape, weights_hidden_output_p10.shape, bias_hidden_output_p10.shape)\n",
        "#test model\n",
        "y_pred_p10= nn_mnist_p10.forward(x_test)\n",
        "y_pred_p10 = nn_mnist_p10.active_neuron(y_pred_p10)\n",
        "\n",
        "#Computation error\n",
        "error = y_test - y_pred_p10\n",
        "print(\"Precision del modelo sin cuantificar y prunning 10%\",(np.count_nonzero(error==0)*100)/len(y_test))\n"
      ],
      "metadata": {
        "id": "axCRlFCxQdN0",
        "colab": {
          "base_uri": "https://localhost:8080/"
        },
        "outputId": "3a7f15e6-f861-44e3-fba1-9f5efebc9f34"
      },
      "execution_count": 10,
      "outputs": [
        {
          "output_type": "stream",
          "name": "stdout",
          "text": [
            "weights_input_hidden_prunned shape: (784, 80)\n",
            "bias_input_hidden_prunned shape: (1, 80)\n",
            "weights_hidden_output_prunned shape: (80, 10)\n",
            "bias_hidden_output_prunned shape: (1, 10)\n",
            "(784, 80) (1, 80) (80, 10) (1, 10)\n",
            "Precision del modelo sin cuantificar y prunning 10% 11.35\n"
          ]
        }
      ]
    },
    {
      "cell_type": "code",
      "source": [
        "# Pruned model with 30%\n",
        "weights_input_hidden_p30, bias_input_hidden_p30, weights_hidden_output_p30, bias_hidden_output_p30 = prune_model(weights_input_hidden, bias_input_hidden, weights_hidden_output, bias_hidden_output, 0.3)\n",
        "\n",
        "#Crear un nuevo objeto\n",
        "nn_mnist_p30 = NeuralNetwork(input_size=784, hidden_size=80, output_size=10)\n",
        "nn_mnist_p30.weights_input_hidden = weights_input_hidden_p30\n",
        "nn_mnist_p30.bias_input_hidden_p30 = bias_input_hidden_p30\n",
        "nn_mnist_p30.weights_hidden_output_p30 = weights_hidden_output_p30\n",
        "nn_mnist_p30.bias_hidden_output_p30 = bias_hidden_output_p30\n",
        "\n",
        "print(weights_input_hidden_p30.shape, bias_input_hidden_p30.shape, weights_hidden_output_p30.shape, bias_hidden_output_p30.shape)\n",
        "#test model\n",
        "y_pred_p30 = nn_mnist_p30.forward(x_test)\n",
        "y_pred_p30 = nn_mnist_p30.active_neuron(y_pred_p30)\n",
        "\n",
        "#Computation error\n",
        "error = y_test - y_pred_p30\n",
        "print(\"Precision del modelo sin cuantificar y prunning 30%\",(np.count_nonzero(error==0)*100)/len(y_test))"
      ],
      "metadata": {
        "id": "CSlaoPnsTMq2",
        "colab": {
          "base_uri": "https://localhost:8080/"
        },
        "outputId": "7df5c0e0-7f13-420e-b816-3e439760c1ed"
      },
      "execution_count": 11,
      "outputs": [
        {
          "output_type": "stream",
          "name": "stdout",
          "text": [
            "weights_input_hidden_prunned shape: (784, 80)\n",
            "bias_input_hidden_prunned shape: (1, 80)\n",
            "weights_hidden_output_prunned shape: (80, 10)\n",
            "bias_hidden_output_prunned shape: (1, 10)\n",
            "(784, 80) (1, 80) (80, 10) (1, 10)\n",
            "Precision del modelo sin cuantificar y prunning 30% 10.3\n"
          ]
        }
      ]
    },
    {
      "cell_type": "code",
      "source": [
        "# Pruned model with 50%\n",
        "weights_input_hidden_p50, bias_input_hidden_p50, weights_hidden_output_p50, bias_hidden_output_p50= prune_model(weights_input_hidden, bias_input_hidden, weights_hidden_output, bias_hidden_output, 0.5)\n",
        "\n",
        "#Crear un nuevo objeto\n",
        "nn_mnist_p50 = NeuralNetwork(input_size=784, hidden_size=80, output_size=10)\n",
        "nn_mnist_p50.weights_input_hidden = weights_input_hidden_p50\n",
        "nn_mnist_p50.bias_input_hidden_p50 = bias_input_hidden_p50\n",
        "nn_mnist_p50.weights_hidden_output_p50 = weights_hidden_output_p50\n",
        "nn_mnist_p50.bias_hidden_output_p50 = bias_hidden_output_p50\n",
        "\n",
        "#test model\n",
        "y_pred_p50 = nn_mnist_p50.forward(x_test)\n",
        "y_pred_p50 = nn_mnist_p50.active_neuron(y_pred_p50)\n",
        "\n",
        "#Computation error\n",
        "error = y_test - y_pred_p50\n",
        "print(\"Precision del modelo sin cuantificar y prunning 50%\",(np.count_nonzero(error==0)*100)/len(y_test))"
      ],
      "metadata": {
        "id": "oiine_ziTtEB",
        "colab": {
          "base_uri": "https://localhost:8080/"
        },
        "outputId": "8282667b-4654-46e6-f91a-d5cef4d32458"
      },
      "execution_count": 12,
      "outputs": [
        {
          "output_type": "stream",
          "name": "stdout",
          "text": [
            "weights_input_hidden_prunned shape: (784, 80)\n",
            "bias_input_hidden_prunned shape: (1, 80)\n",
            "weights_hidden_output_prunned shape: (80, 10)\n",
            "bias_hidden_output_prunned shape: (1, 10)\n",
            "Precision del modelo sin cuantificar y prunning 50% 10.29\n"
          ]
        }
      ]
    },
    {
      "cell_type": "markdown",
      "metadata": {
        "id": "OuLQlI19ItIZ"
      },
      "source": [
        "## Analysis\n",
        "\n",
        "Discuss the following questions based on the lab experiments and the theory studied:\n",
        "\n",
        "\n",
        "*   How is it important to store the weights in binary format?\n",
        "\n",
        "The main reason for using binary format is independent of the machine or hardware architecture, so it can be read and written in a computer processor as in a microcontroller. Furthermore, using other formats with json, txt or csv consume more memory space and resources since they add metadata to the data that carries extra information about its structure and organization.\n",
        "\n",
        "\n",
        "*   How much reduction in model memory requirements can be achieved by each of the versions obtained?\n",
        "\n",
        "1. int8 model: a memory consumption of 64KB was achieved\n",
        "2. int8 with centering model: a memory consumption of 64KB was achieved\n",
        "3. float16 model: memory consumption of 128KB was achieved\n",
        "4. original unquantized model: memory consumption is 509KB\n",
        "\n",
        "\n",
        "\n",
        "|                     | *size memory* | *mean accuracy* |\n",
        "|:-------------------:|:---------------------:|:----------------------:|\n",
        "|      *Float 64*      |        509.4 kB       |           78%          |\n",
        "|      *Float 16*      |        127.7 kB       |           78%          |\n",
        "|   *Naive Int 8*   |        64.1 kB        |           10%          |\n",
        "| *Centering Int 8* |        64.1 kB        |           11%          |\n",
        "\n",
        "Therefore, the reduction in model memory requirements achieved by each version compared to the original unquantized model is as follows:\n",
        "\n",
        "INT8 Model: 445KB\n",
        "INT8 with Centering Model: 445 KB\n",
        "Float16 model: 381 KB\n",
        "These reductions in memory consumption highlight the effectiveness of quantization techniques, such as using INT8 and float16 data types for weights, resulting in significant memory savings but at the same time reducing model accuracy.\n",
        "\n",
        "\n",
        "*   What are the posible computational advantages of the obtained models and how do they depend on the hardware?\n",
        "\n",
        "The computational advantages of the models obtained, particularly through techniques such as quantization and pruning, are essential to improve performance and efficiency in embedded systems. By employing lower precision data types and eliminating redundant connections, quantized and pruned models significantly reduce computational complexity and memory requirements, enabling faster inference times, lower power consumption, and optimal resource utilization. . These advantages are especially critical in embedded systems, where hardware resources are often limited and real-time processing is essential. Optimizing models for embedded systems involves striking a balance between computational efficiency, memory limitations, and real-time performance requirements to achieve optimal results.\n",
        "\n",
        "\n",
        "## Conclusions\n",
        "\n",
        "\n",
        "* The pruning method may generate inconsistent results, since if random weights are set to zero, i.e., the connection is randomly \"turned off\", there may be weights with a high level of relevance. If these are removed, the performance of the model may decrease significantly. To avoid this, a criterion must be established to remove the weights that contribute the least to the model, thus reducing the computational cost without affecting accuracy.\n",
        "\n",
        "* Compression of AI models and quantization of their weights offer significant computational advantages, such as reduced memory footprint and faster inference times. These advantages depend on the hardware used and are especially important for embedded devices with limited memory resources and computing power. However, it is important to keep in mind that quantization can affect the accuracy of the model, so it is necessary to find a balance between efficiency and performance."
      ]
    }
  ],
  "metadata": {
    "colab": {
      "provenance": []
    },
    "kernelspec": {
      "display_name": "Python 3",
      "name": "python3"
    },
    "language_info": {
      "name": "python"
    }
  },
  "nbformat": 4,
  "nbformat_minor": 0
}